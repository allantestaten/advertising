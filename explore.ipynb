{
 "cells": [
  {
   "cell_type": "code",
   "execution_count": 1,
   "id": "3eb4e313",
   "metadata": {},
   "outputs": [],
   "source": [
    "import pandas as pd \n",
    "import numpy as np \n",
    "import seaborn as sns "
   ]
  },
  {
   "cell_type": "code",
   "execution_count": 4,
   "id": "02ebfdb4",
   "metadata": {},
   "outputs": [],
   "source": [
    "#get data \n",
    "df = pd.read_csv('advertising_ef.csv')"
   ]
  },
  {
   "cell_type": "code",
   "execution_count": 5,
   "id": "83091208",
   "metadata": {},
   "outputs": [
    {
     "name": "stdout",
     "output_type": "stream",
     "text": [
      "<class 'pandas.core.frame.DataFrame'>\n",
      "RangeIndex: 1009 entries, 0 to 1008\n",
      "Data columns (total 10 columns):\n",
      " #   Column                    Non-Null Count  Dtype  \n",
      "---  ------                    --------------  -----  \n",
      " 0   Daily Time Spent on Site  1005 non-null   float64\n",
      " 1   Age                       998 non-null    float64\n",
      " 2   Area Income               998 non-null    float64\n",
      " 3   Daily Internet Usage      1005 non-null   float64\n",
      " 4   Ad Topic Line             1009 non-null   object \n",
      " 5   City                      998 non-null    object \n",
      " 6   Gender                    1009 non-null   object \n",
      " 7   Country                   996 non-null    object \n",
      " 8   Timestamp                 1009 non-null   object \n",
      " 9   Clicked on Ad             1009 non-null   int64  \n",
      "dtypes: float64(4), int64(1), object(5)\n",
      "memory usage: 79.0+ KB\n"
     ]
    }
   ],
   "source": [
    "#details of columns \n",
    "df.info()"
   ]
  },
  {
   "cell_type": "code",
   "execution_count": null,
   "id": "3875a92c",
   "metadata": {},
   "outputs": [],
   "source": []
  }
 ],
 "metadata": {
  "kernelspec": {
   "display_name": "Python 3 (ipykernel)",
   "language": "python",
   "name": "python3"
  },
  "language_info": {
   "codemirror_mode": {
    "name": "ipython",
    "version": 3
   },
   "file_extension": ".py",
   "mimetype": "text/x-python",
   "name": "python",
   "nbconvert_exporter": "python",
   "pygments_lexer": "ipython3",
   "version": "3.9.12"
  }
 },
 "nbformat": 4,
 "nbformat_minor": 5
}
